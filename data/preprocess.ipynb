{
 "cells": [
  {
   "cell_type": "code",
   "execution_count": 1,
   "metadata": {
    "scrolled": true
   },
   "outputs": [
    {
     "name": "stdout",
     "output_type": "stream",
     "text": [
      "data import\n",
      "count    304713.000000\n",
      "mean         10.535635\n",
      "std          12.006740\n",
      "min           0.000000\n",
      "25%           4.000000\n",
      "50%           7.000000\n",
      "75%          13.000000\n",
      "max         556.000000\n",
      "Name: counts, dtype: float64\n",
      "visualisation part\n"
     ]
    },
    {
     "data": {
      "image/png": "[encoded data removed]",
      "text/plain": [
       "<matplotlib.figure.Figure at 0x111a75d68>"
      ]
     },
     "metadata": {},
     "output_type": "display_data"
    },
    {
     "name": "stdout",
     "output_type": "stream",
     "text": [
      "data export\n"
     ]
    }
   ],
   "source": [
    "import pandas as pd\n",
    "import matplotlib.pyplot as plt\n",
    "import numpy as np\n",
    "\n",
    "filepath = 'movie_dialogue.txt'\n",
    "\n",
    "texts = []\n",
    "counts = []\n",
    "\n",
    "print('data import')\n",
    "with open(filepath) as f:\n",
    "    text = f.readlines()\n",
    "    for sentence in text:\n",
    "        texts.append(sentence.rstrip())\n",
    "        counts.append(len(sentence.split()))\n",
    "        \n",
    "df = pd.DataFrame({'counts': counts,'texts': texts})\n",
    "print(df['counts'].describe())\n",
    "\n",
    "print('visualisation part')\n",
    "plt.hist(df['counts'], bins=100)\n",
    "plt.axis([1, 556, 0, 2500])\n",
    "plt.show()\n",
    "\n",
    "# print(float(len(df[df['counts'].values > 30]))/float(len(df)))\n",
    "\n",
    "print('data export')\n",
    "df = df[df['counts'].values > 0]\n",
    "df = df[df['counts'].values <= 13]\n",
    "df['texts'].to_csv('data_less_than_13.csv', header=False, index=False)"
   ]
  },
  {
   "cell_type": "code",
   "execution_count": 7,
   "metadata": {},
   "outputs": [
    {
     "data": {
      "text/html": [
       "<div>\n",
       "<style>\n",
       "    .dataframe thead tr:only-child th {\n",
       "        text-align: right;\n",
       "    }\n",
       "\n",
       "    .dataframe thead th {\n",
       "        text-align: left;\n",
       "    }\n",
       "\n",
       "    .dataframe tbody tr th {\n",
       "        vertical-align: top;\n",
       "    }\n",
       "</style>\n",
       "<table border=\"1\" class=\"dataframe\">\n",
       "  <thead>\n",
       "    <tr style=\"text-align: right;\">\n",
       "      <th></th>\n",
       "      <th>counts</th>\n",
       "      <th>texts</th>\n",
       "    </tr>\n",
       "  </thead>\n",
       "  <tbody>\n",
       "  </tbody>\n",
       "</table>\n",
       "</div>"
      ],
      "text/plain": [
       "Empty DataFrame\n",
       "Columns: [counts, texts]\n",
       "Index: []"
      ]
     },
     "execution_count": 7,
     "metadata": {},
     "output_type": "execute_result"
    }
   ],
   "source": [
    "df[df['texts'].values == \"\"]"
   ]
  },
  {
   "cell_type": "code",
   "execution_count": null,
   "metadata": {
    "collapsed": true
   },
   "outputs": [],
   "source": []
  }
 ],
 "metadata": {
  "kernelspec": {
   "display_name": "Python 3",
   "language": "python",
   "name": "python3"
  },
  "language_info": {
   "codemirror_mode": {
    "name": "ipython",
    "version": 3
   },
   "file_extension": ".py",
   "mimetype": "text/x-python",
   "name": "python",
   "nbconvert_exporter": "python",
   "pygments_lexer": "ipython3",
   "version": "3.6.3"
  }
 },
 "nbformat": 4,
 "nbformat_minor": 2
}
